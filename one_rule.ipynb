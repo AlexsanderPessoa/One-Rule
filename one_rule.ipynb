{
  "nbformat": 4,
  "nbformat_minor": 0,
  "metadata": {
    "colab": {
      "provenance": [],
      "authorship_tag": "ABX9TyMPBTWsa0MKfgWfqTXRRUZ8",
      "include_colab_link": true
    },
    "kernelspec": {
      "name": "python3",
      "display_name": "Python 3"
    },
    "language_info": {
      "name": "python"
    }
  },
  "cells": [
    {
      "cell_type": "markdown",
      "metadata": {
        "id": "view-in-github",
        "colab_type": "text"
      },
      "source": [
        "<a href=\"https://colab.research.google.com/github/AlexsanderPessoa/One-Rule/blob/main/one_rule.ipynb\" target=\"_parent\"><img src=\"https://colab.research.google.com/assets/colab-badge.svg\" alt=\"Open In Colab\"/></a>"
      ]
    },
    {
      "cell_type": "code",
      "execution_count": 1,
      "metadata": {
        "id": "E06D5QH_XMm6"
      },
      "outputs": [],
      "source": [
        "import os\n",
        "import sys\n",
        "import pandas as pd"
      ]
    },
    {
      "cell_type": "code",
      "source": [
        "tot_aspecto_SIM = [0,0,0] #tot_sol, tot_nuvem, tot_chuva\n",
        "tot_aspecto_NAO = [0,0,0] #tot_sol, tot_nuvem, tot_chuva\n",
        "tot_temperatura_SIM = [0,0,0] #tot_quente, tot_ameno, tot_fresco\n",
        "tot_temperatura_NAO = [0,0,0] #tot_quente, tot_ameno, tot_fresco\n",
        "tot_humidade_SIM = [0,0,0] #tot_elevada, tot_normal, tot_baixa\n",
        "tot_humidade_NAO = [0,0,0] #tot_elevada, tot_normal, tot_baixa\n",
        "tot_vento_SIM = [0,0,0] #tot_forte, tot_medio, tot_fraco\n",
        "tot_vento_NAO = [0,0,0] #tot_forte, tot_medio, tot_fraco"
      ],
      "metadata": {
        "id": "H1nKGMbsXYaw"
      },
      "execution_count": 2,
      "outputs": []
    },
    {
      "cell_type": "code",
      "source": [
        "tx_erro_aspecto = 0\n",
        "tx_erro_temperatura = 0\n",
        "tx_erro_humidade = 0\n",
        "tx_erro_vento = 0"
      ],
      "metadata": {
        "id": "dufvOuLQYSqZ"
      },
      "execution_count": 3,
      "outputs": []
    },
    {
      "cell_type": "code",
      "source": [
        "regras_aspecto = \"\"\n",
        "regras_temperatura = \"\"\n",
        "regras_humidade = \"\"\n",
        "regras_vento = \"\"\n",
        "tx_erro_menor = 9999\n",
        "tot_exemplos = 0"
      ],
      "metadata": {
        "id": "vGr2uBsfYSzN"
      },
      "execution_count": 4,
      "outputs": []
    },
    {
      "cell_type": "code",
      "source": [],
      "metadata": {
        "id": "13-_NDMnYS77"
      },
      "execution_count": null,
      "outputs": []
    }
  ]
}