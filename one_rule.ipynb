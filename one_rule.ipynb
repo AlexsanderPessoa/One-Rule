{
  "nbformat": 4,
  "nbformat_minor": 0,
  "metadata": {
    "colab": {
      "provenance": [],
      "mount_file_id": "1fKQl0pKD2hCS6uFz048GnWjfPjbcwPO7",
      "authorship_tag": "ABX9TyNzcGONKqW0AhSiZI+awCea",
      "include_colab_link": true
    },
    "kernelspec": {
      "name": "python3",
      "display_name": "Python 3"
    },
    "language_info": {
      "name": "python"
    }
  },
  "cells": [
    {
      "cell_type": "markdown",
      "metadata": {
        "id": "view-in-github",
        "colab_type": "text"
      },
      "source": [
        "<a href=\"https://colab.research.google.com/github/AlexsanderPessoa/One-Rule/blob/main/one_rule.ipynb\" target=\"_parent\"><img src=\"https://colab.research.google.com/assets/colab-badge.svg\" alt=\"Open In Colab\"/></a>"
      ]
    },
    {
      "cell_type": "code",
      "execution_count": 1,
      "metadata": {
        "id": "E06D5QH_XMm6"
      },
      "outputs": [],
      "source": [
        "import os\n",
        "import sys\n",
        "import pandas as pd"
      ]
    },
    {
      "cell_type": "code",
      "source": [
        "tot_aspecto_SIM = [0,0,0] #tot_sol, tot_nuvem, tot_chuva\n",
        "tot_aspecto_NAO = [0,0,0] #tot_sol, tot_nuvem, tot_chuva\n",
        "tot_temperatura_SIM = [0,0,0] #tot_quente, tot_ameno, tot_fresco\n",
        "tot_temperatura_NAO = [0,0,0] #tot_quente, tot_ameno, tot_fresco\n",
        "tot_humidade_SIM = [0,0,0] #tot_elevada, tot_normal, tot_baixa\n",
        "tot_humidade_NAO = [0,0,0] #tot_elevada, tot_normal, tot_baixa\n",
        "tot_vento_SIM = [0,0,0] #tot_forte, tot_medio, tot_fraco\n",
        "tot_vento_NAO = [0,0,0] #tot_forte, tot_medio, tot_fraco"
      ],
      "metadata": {
        "id": "H1nKGMbsXYaw"
      },
      "execution_count": 2,
      "outputs": []
    },
    {
      "cell_type": "code",
      "source": [
        "tx_erro_aspecto = 0\n",
        "tx_erro_temperatura = 0\n",
        "tx_erro_humidade = 0\n",
        "tx_erro_vento = 0"
      ],
      "metadata": {
        "id": "dufvOuLQYSqZ"
      },
      "execution_count": 3,
      "outputs": []
    },
    {
      "cell_type": "code",
      "source": [
        "regras_aspecto = \"\"\n",
        "regras_temperatura = \"\"\n",
        "regras_humidade = \"\"\n",
        "regras_vento = \"\"\n",
        "tx_erro_menor = 9999\n",
        "tot_exemplos = 0"
      ],
      "metadata": {
        "id": "vGr2uBsfYSzN"
      },
      "execution_count": 4,
      "outputs": []
    },
    {
      "cell_type": "code",
      "source": [
        "%%writefile one_rule.csv\n",
        "dia,\"aspecto\",\"temperatura\",\"humidade\",\"vento\",\"jogar\"\n",
        "D1,\"Sol\",\"Quente\",\"Elevada\",\"Fraco\",\"Não\"\n",
        "D2,\"Sol\",\"Quente\",\"Elevada\",\"Forte\",\"Não\"\n",
        "D3,\"Nuvens\",\"Quente\",\"Elevada\",\"Fraco\",\"Sim\"\n",
        "D4,\"Chuva\",\"Ameno\",\"Elevada\",\"Fraco\",\"Sim\"\n",
        "D5,\"Chuva\",\"Fresco\",\"Normal\",\"Fraco\",\"Sim\"\n",
        "D6,\"Chuva\",\"Fresco\",\"Normal\",\"Forte\",\"Não\"\n",
        "D7,\"Nuvens\",\"Fresco\",\"Normal\",\"Fraco\",\"Sim\"\n",
        "D8,\"Sol\",\"Ameno\",\"Elevada\",\"Fraco\",\"Não\"\n",
        "D9,\"Sol\",\"Fresco\",\"Normal\",\"Fraco\",\"Sim\"\n",
        "D10,\"Chuva\",\"Ameno\",\"Normal\",\"Forte\",\"Sim\"\n",
        "D11,\"Sol\",\"Ameno\",\"Normal\",\"Forte\",\"Sim\"\n",
        "D12,\"Nuvens\",\"Ameno\",\"Elevada\",\"Forte\",\"Sim\"\n",
        "D13,\"Nuvens\",\"Quente\",\"Normal\",\"Fraco\",\"Sim\"\n",
        "D14,\"Chuva\",\"Ameno\",\"Elevada\",\"Forte\",\"Não\""
      ],
      "metadata": {
        "colab": {
          "base_uri": "https://localhost:8080/"
        },
        "id": "o-LHLunvhriB",
        "outputId": "ed663075-be60-489d-f9df-a4bb40d072af"
      },
      "execution_count": 5,
      "outputs": [
        {
          "output_type": "stream",
          "name": "stdout",
          "text": [
            "Overwriting one_rule.csv\n"
          ]
        }
      ]
    },
    {
      "cell_type": "code",
      "source": [
        "df_entrada = pd.read_csv('/content/one_rule.csv')\n",
        "print(df_entrada)"
      ],
      "metadata": {
        "colab": {
          "base_uri": "https://localhost:8080/"
        },
        "id": "aKNYExfLi5z_",
        "outputId": "1221569f-4cae-4e67-c4c2-0f3294776738"
      },
      "execution_count": 6,
      "outputs": [
        {
          "output_type": "stream",
          "name": "stdout",
          "text": [
            "    dia aspecto temperatura humidade  vento jogar\n",
            "0    D1     Sol      Quente  Elevada  Fraco   Não\n",
            "1    D2     Sol      Quente  Elevada  Forte   Não\n",
            "2    D3  Nuvens      Quente  Elevada  Fraco   Sim\n",
            "3    D4   Chuva       Ameno  Elevada  Fraco   Sim\n",
            "4    D5   Chuva      Fresco   Normal  Fraco   Sim\n",
            "5    D6   Chuva      Fresco   Normal  Forte   Não\n",
            "6    D7  Nuvens      Fresco   Normal  Fraco   Sim\n",
            "7    D8     Sol       Ameno  Elevada  Fraco   Não\n",
            "8    D9     Sol      Fresco   Normal  Fraco   Sim\n",
            "9   D10   Chuva       Ameno   Normal  Forte   Sim\n",
            "10  D11     Sol       Ameno   Normal  Forte   Sim\n",
            "11  D12  Nuvens       Ameno  Elevada  Forte   Sim\n",
            "12  D13  Nuvens      Quente   Normal  Fraco   Sim\n",
            "13  D14   Chuva       Ameno  Elevada  Forte   Não\n"
          ]
        }
      ]
    },
    {
      "cell_type": "code",
      "source": [
        "print(\"Lendo a base de entrada...\")\n",
        "rows = df_entrada.values\n",
        "tot_exemplos = 0\n",
        "for r in rows:\n",
        "    tot_exemplos = tot_exemplos + 1\n",
        "    dia = r[0]\n",
        "    aspecto = r[1]\n",
        "    temperatura = r[2]\n",
        "    humidade = r[3]\n",
        "    vento = r[4]\n",
        "    jogar = r[5]\n",
        "    #print(\"Dia:\", dia, \"Aspecto:\", aspecto, \"Temperatura:\", temperatura, \"Humidade:\", humidade, \"Vento:\", vento, \"Jogar:\", jogar)\n",
        "    #print(\"--------------------------------------------\")\n",
        "    if aspecto == \"Sol\":\n",
        "        if jogar == \"Sim\":\n",
        "            tot_aspecto_SIM[0] = tot_aspecto_SIM[0]+1\n",
        "        else:\n",
        "            tot_aspecto_NAO[0] = tot_aspecto_NAO[0]+1\n",
        "    if aspecto == \"Nuvens\":\n",
        "        if jogar == \"Sim\":\n",
        "            tot_aspecto_SIM[0] = tot_aspecto_SIM[1]+1\n",
        "        else:\n",
        "            tot_aspecto_NAO[0] = tot_aspecto_NAO[1]+1\n",
        "    if aspecto == \"Chuva\":\n",
        "        if jogar == \"Sim\":\n",
        "            tot_aspecto_SIM[2] = tot_aspecto_SIM[2]+1\n",
        "        else:\n",
        "            tot_aspecto_NAO[2] = tot_aspecto_NAO[2]+1\n",
        "\n",
        "    if temperatura == \"Quente\":\n",
        "        if jogar == \"Sim\":\n",
        "            tot_temperatura_SIM[0] = tot_temperatura_SIM[0]+1\n",
        "        else:\n",
        "            tot_temperatura_NAO[0] = tot_temperatura_NAO[0]+1\n",
        "    if temperatura == \"Ameno\":\n",
        "        if jogar == \"Sim\":\n",
        "            tot_temperatura_SIM[1] = tot_temperatura_SIM[1]+1\n",
        "        else:\n",
        "            tot_temperatura_NAO[1] = tot_temperatura_NAO[1]+1\n",
        "    if temperatura == \"Fresco\":\n",
        "        if jogar == \"Sim\":\n",
        "            tot_temperatura_SIM[2] = tot_temperatura_SIM[2]+1\n",
        "        else:\n",
        "            tot_temperatura_NAO[2] = tot_temperatura_NAO[2]+1\n",
        "\n",
        "    if humidade == \"Elevada\":\n",
        "        if jogar == \"Sim\":\n",
        "            tot_humidade_SIM[0] = tot_humidade_SIM[0]+1\n",
        "        else:\n",
        "            tot_humidade_NAO[0] = tot_humidade_NAO[0]+1\n",
        "    if humidade == \"Normal\":\n",
        "        if jogar == \"Sim\":\n",
        "            tot_humidade_SIM[1] = tot_humidade_SIM[1]+1\n",
        "        else:\n",
        "            tot_humidade_NAO[1] = tot_humidade_NAO[1]+1\n",
        "    if humidade == \"Baixa\":\n",
        "        if jogar == \"Sim\":\n",
        "            tot_humidade_SIM[2] = tot_humidade_SIM[2]+1\n",
        "        else:\n",
        "            tot_humidade_NAO[2] = tot_humidade_NAO[2]+1\n",
        "\n",
        "    if vento == \"Forte\":\n",
        "        if jogar == \"Sim\":\n",
        "            tot_vento_SIM[0] = tot_vento_SIM[0]+1\n",
        "        else:\n",
        "            tot_vento_NAO[0] = tot_vento_NAO[0]+1\n",
        "    if vento == \"Médio\":\n",
        "        if jogar == \"Sim\":\n",
        "            tot_vento_SIM[1] = tot_vento_SIM[1]+1\n",
        "        else:\n",
        "            tot_vento_NAO[1] = tot_vento_NAO[1]+1\n",
        "    if vento == \"Fraco\":\n",
        "        if jogar == \"Sim\":\n",
        "            tot_vento_SIM[2] = tot_vento_SIM[2]+1\n",
        "        else:\n",
        "            tot_vento_NAO[2] = tot_vento_NAO[2]+1\n",
        "\n",
        "print(\"Total de exemplos = \", tot_exemplos)\n",
        "\n"
      ],
      "metadata": {
        "colab": {
          "base_uri": "https://localhost:8080/"
        },
        "id": "OzJceqZWbS_9",
        "outputId": "a4c82d3e-9dcb-47a3-d194-ac6c455e3cba"
      },
      "execution_count": 7,
      "outputs": [
        {
          "output_type": "stream",
          "name": "stdout",
          "text": [
            "Lendo a base de entrada...\n",
            "Total de exemplos =  14\n"
          ]
        }
      ]
    },
    {
      "cell_type": "code",
      "source": [
        "print(\"Identificando as regras para o atributo Aspecto...\")\n",
        "if tot_aspecto_SIM[0] >= tot_aspecto_NAO[0]:\n",
        "    print(\"Se Sol então joga\")\n",
        "    tx_erro_aspecto = tx_erro_aspecto + tot_aspecto_SIM[0]\n",
        "    regras_aspecto = regras_aspecto + \"Se Sol então não joga;\"\n",
        "else:\n",
        "    print(\"Se Sol então não joga\")\n",
        "    tx_erro_aspecto = tx_erro_aspecto + tot_aspecto_SIM[0]\n",
        "    regras_aspecto = regras_aspecto + \"Se Sol então não joga;\"\n",
        "\n",
        "if tot_aspecto_SIM[1] >= tot_aspecto_NAO[1]:\n",
        "    print(\"Se Nuvem então não joga\")\n",
        "    tx_erro_aspecto = tx_erro_aspecto + tot_aspecto_NAO[1]\n",
        "    regras_aspecto = regras_aspecto + \"Se Nuvens então joga;\"\n",
        "else:\n",
        "    print(\"Se Nuvens então não joga\")\n",
        "    tx_erro_aspecto = tx_erro_aspecto + tot_aspecto_SIM[1]\n",
        "    regras_aspecto = regras_aspecto + \"Se Nuvens então não joga;\"\n",
        "\n",
        "if tot_aspecto_SIM[2] >= tot_aspecto_NAO[2]:\n",
        "    print(\"Se Chuva então joga\")\n",
        "    tx_erro_aspecto = tx_erro_aspecto + tot_aspecto_NAO[2]\n",
        "    regras_aspecto = regras_aspecto + \"Se Chuva então joga;\"\n",
        "else:\n",
        "    print(\"Se Chuva então não joga\")\n",
        "    tx_erro_aspecto = tx_erro_aspecto + tot_aspecto_SIM[2]\n",
        "    regras_aspecto = regras_aspecto + \"Se Chuva então não joga;\"\n",
        "\n",
        "print(\"Taxa de Erro do atributo Aspecto = \", tx_erro_aspecto/tot_exemplos)\n",
        "if tx_erro_aspecto < tx_erro_menor:\n",
        "    tx_erro_menor = tx_erro_aspecto\n",
        "    conjunto_regras = \"Aspecto\"\n"
      ],
      "metadata": {
        "colab": {
          "base_uri": "https://localhost:8080/"
        },
        "id": "IvKnu9KkbTHY",
        "outputId": "654937aa-63a7-4acc-a20d-d090b4385940"
      },
      "execution_count": 8,
      "outputs": [
        {
          "output_type": "stream",
          "name": "stdout",
          "text": [
            "Identificando as regras para o atributo Aspecto...\n",
            "Se Sol então não joga\n",
            "Se Nuvem então não joga\n",
            "Se Chuva então joga\n",
            "Taxa de Erro do atributo Aspecto =  0.21428571428571427\n"
          ]
        }
      ]
    },
    {
      "cell_type": "code",
      "source": [],
      "metadata": {
        "id": "li4ICDojbTNk"
      },
      "execution_count": 8,
      "outputs": []
    }
  ]
}